{
 "cells": [
  {
   "cell_type": "markdown",
   "id": "9a733b51",
   "metadata": {},
   "source": [
    "Passenger Information January 2022"
   ]
  },
  {
   "cell_type": "code",
   "execution_count": null,
   "id": "b30ec2c7",
   "metadata": {},
   "outputs": [],
   "source": [
    "pip install PyPDF2"
   ]
  },
  {
   "cell_type": "code",
   "execution_count": null,
   "id": "5d8b845d",
   "metadata": {},
   "outputs": [],
   "source": []
  },
  {
   "cell_type": "code",
   "execution_count": null,
   "id": "a9a0a078",
   "metadata": {},
   "outputs": [],
   "source": []
  },
  {
   "cell_type": "code",
   "execution_count": null,
   "id": "4828628d-1c34-44d9-9402-5b0bbf825564",
   "metadata": {},
   "outputs": [],
   "source": [
    "pip install tabula-py"
   ]
  },
  {
   "cell_type": "code",
   "execution_count": null,
   "id": "5bf244f6",
   "metadata": {},
   "outputs": [],
   "source": [
    "import PyPDF2\n",
    "import pandas as pd\n",
    "import requests\n",
    "import bs4\n",
    "from bs4 import BeautifulSoup\n",
    "import time\n",
    "import json\n",
    "import os\n",
    "import urllib.request\n",
    "import io\n",
    "import tabula\n",
    "import ssl"
   ]
  },
  {
   "cell_type": "code",
   "execution_count": null,
   "id": "cc79d857-88e3-4513-9f60-594c0407c5e8",
   "metadata": {},
   "outputs": [],
   "source": [
    "#url = \"https://www.iaa.gov.il/media/oril01yl/%D7%93%D7%95%D7%97-%D7%A4%D7%A2%D7%99%D7%9C%D7%95%D7%AA-%D7%97%D7%95%D7%93%D7%A9%D7%99-%D7%A0%D7%AA%D7%91%D7%92-%D7%99%D7%A0%D7%95%D7%90%D7%A8-2022.pdf\"\n",
    "url = \"TLV-Airport-Status-January-2022.pdf\""
   ]
  },
  {
   "cell_type": "code",
   "execution_count": null,
   "id": "a788cc58-3bf3-4d4c-bd63-b5cb8844d006",
   "metadata": {},
   "outputs": [],
   "source": [
    "pdf_contry_jan = tabula.read_pdf(\"TLV-Airport-Status-January-2022.pdf\", pages=\"20-21\")\n",
    "print(len(pdf_contry_jan))\n",
    "print(pdf_contry_jan)\n",
    "pdf_contry_jan[0].to_csv(\"pdf_contry_jan0.csv\")\n",
    "pdf_contry_jan[1].to_csv(\"pdf_contry_jan1.csv\")\n"
   ]
  },
  {
   "cell_type": "code",
   "execution_count": null,
   "id": "44cab4de-c229-4277-bc84-44d04782c4e1",
   "metadata": {},
   "outputs": [],
   "source": [
    "#df0 = pd.read_csv(\"first_table_contry_jan.csv\")\n",
    "#df1 = pd.read_csv(\"second_table_contry_jan.csv\")\n",
    "#print(df0)\n",
    "#print(df1)\n",
    "df0_country = pd.read_csv(\"pdf_contry_jan0.csv\")\n",
    "df1_country = pd.read_csv(\"pdf_contry_jan1.csv\")\n"
   ]
  },
  {
   "cell_type": "code",
   "execution_count": null,
   "id": "d661d4e8-ee0d-4896-ac28-6e4adf1c1dd7",
   "metadata": {},
   "outputs": [],
   "source": [
    "df0_country"
   ]
  },
  {
   "cell_type": "code",
   "execution_count": null,
   "id": "451ef4c0-0231-4fb6-a786-6af8b44f64f2",
   "metadata": {},
   "outputs": [],
   "source": [
    "df0_country = df0_country.drop(['מדינות'],axis=1)\n",
    "df0_country = df0_country.drop(['Unnamed: 0'], axis=1)\n",
    "#df0_country = df0_country.drop(['Unnamed: 0.1'], axis=1)\n",
    "df0_country = df0_country.drop(['שיעור'], axis=1)\n",
    "df0_country = df0_country.iloc[1:]"
   ]
  },
  {
   "cell_type": "code",
   "execution_count": null,
   "id": "0dd10faa-07fb-437d-b522-01b7ed62244e",
   "metadata": {},
   "outputs": [],
   "source": [
    "df0_country = df0_country.rename(columns={'Unnamed: 0.1': 'Country'})\n",
    "df0_country = df0_country.rename(columns={'נוסעים.1': 'Passengers'})\n",
    "df0_country = df0_country.rename(columns={'שיעור.2': 'Passengers %'})\n",
    "df0_country = df0_country.rename(columns={'נוסעים': 'Passengers Last-Y'})\n",
    "df0_country = df0_country.rename(columns={'שיעור.1': 'Passengers Last-Y %'})\n",
    "df0_country"
   ]
  },
  {
   "cell_type": "code",
   "execution_count": null,
   "id": "9e1026ef-cff2-43d0-b4be-87a037614d23",
   "metadata": {},
   "outputs": [],
   "source": [
    "df1_country"
   ]
  },
  {
   "cell_type": "code",
   "execution_count": null,
   "id": "7894faa8",
   "metadata": {},
   "outputs": [],
   "source": [
    "df1_country = df1_country.iloc[2:]\n",
    "df1_country = df1_country.drop(['Unnamed: 0'], axis=1)\n",
    "df1_country = df1_country.rename(columns={'Unnamed: 4': 'Country'})\n",
    "df1_country = df1_country.rename(columns={'Unnamed: 3': 'Passengers'})\n",
    "df1_country = df1_country.rename(columns={'Unnamed: 2': 'Passengers %'})\n",
    "df1_country = df1_country.rename(columns={'Unnamed: 1': 'Passengers Last-Y'})\n",
    "df1_country = df1_country.rename(columns={'Unnamed: 0.1': 'Passengers Last-Y %'})\n",
    "df1_country = df1_country.drop(df1_country.iloc[:, [0, 0]], axis=1)\n",
    "df1_country"
   ]
  },
  {
   "cell_type": "code",
   "execution_count": null,
   "id": "072119c8",
   "metadata": {},
   "outputs": [],
   "source": [
    "df_country = pd.concat([df0_country,df1_country])\n",
    "df_country"
   ]
  },
  {
   "cell_type": "code",
   "execution_count": null,
   "id": "5d7f5585",
   "metadata": {},
   "outputs": [],
   "source": []
  },
  {
   "cell_type": "code",
   "execution_count": null,
   "id": "f2e3e31e",
   "metadata": {},
   "outputs": [],
   "source": [
    "df0_airport = pd.read_csv(\"pdf_airport_jan0.csv\")\n",
    "df1_airport = pd.read_csv(\"pdf_airport_jan1.csv\")\n",
    "df2_airport = pd.read_csv(\"pdf_airport_jan2.csv\")"
   ]
  },
  {
   "cell_type": "code",
   "execution_count": null,
   "id": "34d94a87",
   "metadata": {},
   "outputs": [],
   "source": [
    "df0_airport = df0_airport.iloc[2:]\n",
    "df0_airport = df0_airport.drop(['Unnamed: 0'],axis=1)\n",
    "df0_airport = df0_airport.drop(df0_airport.iloc[:, [0, 0]], axis=1)\n",
    "df0_airport = df0_airport.rename(columns={'Unnamed: 4': 'Airport'})\n",
    "df0_airport = df0_airport.rename(columns={'Unnamed: 3': 'Passengers'})\n",
    "df0_airport = df0_airport.rename(columns={'Unnamed: 2': 'Passengers %'})\n",
    "df0_airport = df0_airport.rename(columns={'Unnamed: 1': 'Passengers Last-Y'})\n",
    "df0_airport = df0_airport.rename(columns={'Unnamed: 0.1': 'Passengers Last-Y %'})\n",
    "df0_airport"
   ]
  },
  {
   "cell_type": "code",
   "execution_count": null,
   "id": "b6317652",
   "metadata": {},
   "outputs": [],
   "source": [
    "df1_airport = df1_airport.iloc[2:]\n",
    "df1_airport = df1_airport.drop(['Unnamed: 0'],axis=1)\n",
    "df1_airport = df1_airport.drop(df1_airport.iloc[:, [0, 0]], axis=1)\n",
    "df1_airport = df1_airport.rename(columns={'Unnamed: 4': 'Airport'})\n",
    "df1_airport = df1_airport.rename(columns={'Unnamed: 3': 'Passengers'})\n",
    "df1_airport = df1_airport.rename(columns={'Unnamed: 2': 'Passengers %'})\n",
    "df1_airport = df1_airport.rename(columns={'Unnamed: 1': 'Passengers Last-Y'})\n",
    "df1_airport = df1_airport.rename(columns={'Unnamed: 0.1': 'Passengers Last-Y %'})\n",
    "df1_airport"
   ]
  },
  {
   "cell_type": "code",
   "execution_count": null,
   "id": "77d9cfd3",
   "metadata": {},
   "outputs": [],
   "source": [
    "df2_airport = df2_airport.iloc[2:]\n",
    "df2_airport = df2_airport.drop(['Unnamed: 0'],axis=1)\n",
    "df2_airport = df2_airport.drop(df2_airport.iloc[:, [0, 0]], axis=1)\n",
    "df2_airport = df2_airport.rename(columns={'Unnamed: 4': 'Airport'})\n",
    "df2_airport = df2_airport.rename(columns={'Unnamed: 3': 'Passengers'})\n",
    "df2_airport = df2_airport.rename(columns={'Unnamed: 2': 'Passengers %'})\n",
    "df2_airport = df2_airport.rename(columns={'Unnamed: 1': 'Passengers Last-Y'})\n",
    "df2_airport = df2_airport.rename(columns={'Unnamed: 0.1': 'Passengers Last-Y %'})\n",
    "df2_airport"
   ]
  },
  {
   "cell_type": "code",
   "execution_count": null,
   "id": "8c1cf891",
   "metadata": {},
   "outputs": [],
   "source": []
  },
  {
   "cell_type": "code",
   "execution_count": null,
   "id": "b77c0ca7",
   "metadata": {},
   "outputs": [],
   "source": [
    "df_airport = pd.concat([df0_airport,df1_airport,df2_airport])\n",
    "df_airport"
   ]
  },
  {
   "cell_type": "code",
   "execution_count": null,
   "id": "885bafc0",
   "metadata": {},
   "outputs": [],
   "source": [
    "df_airport = df_airport.drop(['Unnamed: 0.1'],axis=1)\n",
    "df_airport = df_airport.drop(['Unnamed: 1'],axis=1)\n",
    "df_airport = df_airport.drop(['Unnamed: 2'],axis=1)\n",
    "df_airport = df_airport.drop(['Unnamed: 3'],axis=1)\n"
   ]
  },
  {
   "cell_type": "code",
   "execution_count": null,
   "id": "2329da7e",
   "metadata": {},
   "outputs": [],
   "source": [
    "df_airport"
   ]
  },
  {
   "cell_type": "code",
   "execution_count": null,
   "id": "a2690203",
   "metadata": {},
   "outputs": [],
   "source": [
    "pdf_company_jan = tabula.read_pdf(\"TLV-Airport-Status-January-2022.pdf\", pages=\"16-18\")\n",
    "print(len(pdf_company_jan))\n",
    "print(pdf_company_jan)\n",
    "pdf_company_jan[0].to_csv(\"pdf_company_jan0.csv\")\n",
    "pdf_company_jan[1].to_csv(\"pdf_company_jan1.csv\")\n",
    "pdf_company_jan[2].to_csv(\"pdf_company_jan2.csv\")\n",
    "pdf_company_jan[3].to_csv(\"pdf_company_jan3.csv\")\n",
    "pdf_company_jan[4].to_csv(\"pdf_company_jan4.csv\")\n"
   ]
  },
  {
   "cell_type": "code",
   "execution_count": null,
   "id": "58828f87",
   "metadata": {},
   "outputs": [],
   "source": [
    "df0_company = pd.read_csv(\"pdf_company_jan0.csv\")\n",
    "df1_company = pd.read_csv(\"pdf_company_jan1.csv\")\n",
    "df2_company = pd.read_csv(\"pdf_company_jan4.csv\")"
   ]
  },
  {
   "cell_type": "code",
   "execution_count": null,
   "id": "0eaee4ec",
   "metadata": {},
   "outputs": [],
   "source": [
    "df0_company"
   ]
  },
  {
   "cell_type": "code",
   "execution_count": null,
   "id": "b360b875",
   "metadata": {},
   "outputs": [],
   "source": [
    "df0_company = df0_company.drop(['Unnamed: 0.1'],axis=1)\n",
    "df0_company = df0_company.drop(['Unnamed: 0'],axis=1)\n",
    "df0_company = df0_company.iloc[1:]\n",
    "df0_company = df0_company.rename(columns={'חברת תעופה': 'Company'})\n",
    "df0_company = df0_company.rename(columns={'נוסעים.1': 'Passengers'})\n",
    "df0_company = df0_company.rename(columns={'שיעור.2': 'Passengers %'})\n",
    "df0_company = df0_company.rename(columns={'נוסעים': 'Passengers Last-Y'})\n",
    "df0_company = df0_company.rename(columns={'שיעור.1': 'Passengers % Last-Y'})\n",
    "df0_company = df0_company.rename(columns={'שיעור': 'Change %'})\n",
    "df0_company = df0_company.drop(['Passengers Last-Y'],axis=1)\n",
    "df0_company = df0_company.drop(['Passengers % Last-Y'],axis=1)\n",
    "df0_company = df0_company.drop(['Change %'],axis=1)\n",
    "df0_company"
   ]
  },
  {
   "cell_type": "code",
   "execution_count": null,
   "id": "b9506cf3",
   "metadata": {},
   "outputs": [],
   "source": [
    "df0_company = df0_company.drop(['Passengers Last-Y'],axis=1)\n",
    "df0_company = df0_company.drop(['Passengers % Last-Y'],axis=1)\n",
    "df0_company = df0_company.drop(['Change %'],axis=1)\n",
    "df0_company\n"
   ]
  },
  {
   "cell_type": "code",
   "execution_count": null,
   "id": "e1aa3162",
   "metadata": {},
   "outputs": [],
   "source": [
    "df1_company = df1_company.drop(['Unnamed: 5'],axis=1)\n",
    "df1_company = df1_company.drop(['Unnamed: 0.1'],axis=1)\n",
    "df1_company = df1_company.drop(['Unnamed: 1'],axis=1)\n",
    "df1_company = df1_company.drop(df1_company.iloc[:, [0, 0]], axis=1)\n",
    "df1_company = df1_company.rename(columns={'Unnamed: 4': 'Company'})\n",
    "df1_company = df1_company.rename(columns={'Unnamed: 3': 'Passengers'})\n",
    "df1_company = df1_company.rename(columns={'Unnamed: 2': 'Passengers %'})\n",
    "df1_company = df1_company.iloc[1:]\n",
    "df1_company"
   ]
  },
  {
   "cell_type": "code",
   "execution_count": null,
   "id": "487fee92",
   "metadata": {},
   "outputs": [],
   "source": []
  },
  {
   "cell_type": "code",
   "execution_count": null,
   "id": "5a05a587",
   "metadata": {},
   "outputs": [],
   "source": [
    "df2_company"
   ]
  },
  {
   "cell_type": "code",
   "execution_count": null,
   "id": "ede90c83",
   "metadata": {},
   "outputs": [],
   "source": [
    "df2_company = df2_company.iloc[2:]\n",
    "df2_company = df2_company.drop(['Unnamed: 5'],axis=1)\n",
    "df2_company = df2_company.drop(['Unnamed: 0'],axis=1)\n",
    "df2_company = df2_company.drop(df2_company.iloc[:, [0, 0]], axis=1)\n",
    "df2_company = df2_company.rename(columns={'Unnamed: 3': 'Passengers'})\n",
    "df2_company = df2_company.rename(columns={'Unnamed: 4': 'Company'})\n",
    "df2_company = df2_company.rename(columns={'Unnamed: 2': 'Passengers %'})\n",
    "df2_company = df2_company.drop(['Unnamed: 1'],axis=1)\n",
    "df2_company = df2_company.drop(['Unnamed: 0.1'],axis=1)\n",
    "df2_company"
   ]
  },
  {
   "cell_type": "code",
   "execution_count": null,
   "id": "bd1628d1",
   "metadata": {},
   "outputs": [],
   "source": [
    "df_company = pd.concat([df0_company,df1_company,df2_company])\n",
    "df_company"
   ]
  },
  {
   "cell_type": "code",
   "execution_count": null,
   "id": "a83b6ba5",
   "metadata": {},
   "outputs": [],
   "source": []
  }
 ],
 "metadata": {
  "kernelspec": {
   "display_name": "Python 3 (ipykernel)",
   "language": "python",
   "name": "python3"
  },
  "language_info": {
   "codemirror_mode": {
    "name": "ipython",
    "version": 3
   },
   "file_extension": ".py",
   "mimetype": "text/x-python",
   "name": "python",
   "nbconvert_exporter": "python",
   "pygments_lexer": "ipython3",
   "version": "3.9.7"
  }
 },
 "nbformat": 4,
 "nbformat_minor": 5
}
